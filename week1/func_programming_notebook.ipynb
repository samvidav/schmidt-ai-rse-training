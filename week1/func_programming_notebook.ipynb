{
 "cells": [
  {
   "cell_type": "code",
   "execution_count": 2,
   "metadata": {},
   "outputs": [],
   "source": [
    "import numpy as np"
   ]
  },
  {
   "cell_type": "code",
   "execution_count": 12,
   "metadata": {},
   "outputs": [],
   "source": [
    "def step(grid):\n",
    "    rows, cols = grid.shape\n",
    "    new_grid = np.zeros((rows, cols), dtype=np.int8)\n",
    "    for i in range(rows):\n",
    "        for j in range(cols):\n",
    "            neighbors = get_neighbors(grid, i, j)\n",
    "            count = sum(neighbors)\n",
    "            if grid[i, j] == 1:\n",
    "                if count in [2, 3]:\n",
    "                    new_grid[i, j] = 1\n",
    "            elif count == 3:\n",
    "                new_grid[i, j] = 1\n",
    "    return new_grid\n",
    "\n",
    "\n",
    "def get_neighbors(grid, i, j):\n",
    "    rows, cols = grid.shape\n",
    "    indices = np.array([(i-1, j-1), (i-1, j), (i-1, j+1),\n",
    "                        (i, j-1),             (i, j+1),\n",
    "                        (i+1, j-1), (i+1, j), (i+1, j+1)])\n",
    "    valid_indices = (indices[:, 0] >= 0) & (indices[:, 0] < rows) & \\\n",
    "                    (indices[:, 1] >= 0) & (indices[:, 1] < cols)\n",
    "    #valid_indices[4] = False  # exclude current cell\n",
    "    return grid[indices[valid_indices][:, 0], indices[valid_indices][:, 1]]\n"
   ]
  },
  {
   "cell_type": "code",
   "execution_count": 13,
   "metadata": {},
   "outputs": [
    {
     "name": "stdout",
     "output_type": "stream",
     "text": [
      "[[0 0 0 0 0]\n",
      " [0 0 1 0 0]\n",
      " [0 1 0 1 0]\n",
      " [0 0 1 0 0]\n",
      " [0 0 0 0 0]]\n"
     ]
    }
   ],
   "source": [
    "# Test\n",
    "grid = np.array([[0, 0, 0, 0, 0],\n",
    "                 [0, 0, 1, 0, 0],\n",
    "                 [0, 1, 0, 1, 0],\n",
    "                 [0, 0, 1, 0, 0],\n",
    "                 [0, 0, 0, 0, 0]], dtype=np.int8)\n",
    "step(grid)\n",
    "print(grid)  # should be unchanged, but may change due to the bug"
   ]
  },
  {
   "cell_type": "code",
   "execution_count": 25,
   "metadata": {},
   "outputs": [],
   "source": [
    "from functools import reduce\n",
    "import re\n",
    "\n",
    "def sum_of_squares(l):  \n",
    "    # filter only to strings that can be cast to integers\n",
    "    lnum = list(filter(lambda x: re.match(\"[-+]*[0-9]+\", x), l))\n",
    "    # square each number with map but cast the strings to int first\n",
    "    lsq = list(map(lambda x: int(x)**2, lnum))\n",
    "    # sum all the squared numbers\n",
    "    return reduce(lambda a, b: a + b, lsq)"
   ]
  },
  {
   "cell_type": "code",
   "execution_count": 26,
   "metadata": {},
   "outputs": [
    {
     "name": "stdout",
     "output_type": "stream",
     "text": [
      "14\n",
      "14\n"
     ]
    }
   ],
   "source": [
    "print(sum_of_squares(['1', '2', '3']))\n",
    "print(sum_of_squares(['-1', '-2', '-3']))"
   ]
  },
  {
   "cell_type": "code",
   "execution_count": 27,
   "metadata": {},
   "outputs": [
    {
     "name": "stdout",
     "output_type": "stream",
     "text": [
      "14\n",
      "14\n",
      "14\n"
     ]
    }
   ],
   "source": [
    "print(sum_of_squares(['1', '2', '3']))\n",
    "print(sum_of_squares(['-1', '-2', '-3']))\n",
    "print(sum_of_squares(['1', '2', '#100', '3']))"
   ]
  },
  {
   "cell_type": "code",
   "execution_count": 45,
   "metadata": {},
   "outputs": [],
   "source": [
    "import time\n",
    "\n",
    "def time_this(func):\n",
    "    \"\"\"A decorator which times a function.\"\"\"\n",
    "    def inner(*args, **kwargs):\n",
    "        t1 = time.process_time_ns()\n",
    "        result = func(*args, **kwargs)\n",
    "        t2 = time.process_time_ns()\n",
    "        print(\"Processed in \", (t2 - t1)/1E9, \" seconds\")\n",
    "        return result\n",
    "    return inner\n",
    "\n",
    "def measure_me(n):\n",
    "    total = 0\n",
    "    for i in range(n):\n",
    "        total += i * i\n",
    "\n",
    "    return total\n",
    "\n",
    "# Redefine function\n",
    "measure_me = time_this(measure_me)"
   ]
  },
  {
   "cell_type": "code",
   "execution_count": 46,
   "metadata": {},
   "outputs": [
    {
     "name": "stdout",
     "output_type": "stream",
     "text": [
      "Processed in  0.0  seconds\n",
      "333283335000\n",
      "Processed in  0.0  seconds\n",
      "333328333350000\n",
      "Processed in  0.0625  seconds\n",
      "333332833333500000\n",
      "Processed in  0.265625  seconds\n",
      "333333283333335000000\n",
      "Processed in  4.1875  seconds\n",
      "333333328333333350000000\n"
     ]
    }
   ],
   "source": [
    "print(measure_me(10000))\n",
    "print(measure_me(100000))\n",
    "print(measure_me(1000000))\n",
    "print(measure_me(10000000))\n",
    "print(measure_me(100000000))"
   ]
  },
  {
   "cell_type": "code",
   "execution_count": 52,
   "metadata": {},
   "outputs": [],
   "source": [
    "from multiprocessing import Pool\n",
    "\n",
    "def filter_num(l):\n",
    "    # filter only to strings that can be cast to integers\n",
    "    return list(filter(lambda x: re.match(\"[-+]*[0-9]+\", x), l))\n",
    "\n",
    "def square_num(x):\n",
    "    return int(x)**2\n",
    "\n",
    "def sum_of_nums(l):  \n",
    "    # sum all the numbers\n",
    "    return reduce(lambda a, b: a + b, l)"
   ]
  },
  {
   "cell_type": "code",
   "execution_count": 54,
   "metadata": {},
   "outputs": [],
   "source": [
    "# Generate a list of numbers to add up\n",
    "test_nums = list(map(str, range(100+1)))\n",
    "\n",
    "# Filter to valid numbers\n",
    "valid_nums = filter_num(test_nums)\n",
    "\n",
    "# Get the squares\n",
    "if __name__ == '__main__':\n",
    "    with Pool(5) as p:\n",
    "        lsq = p.map(square_num, valid_nums)\n",
    "\n",
    "print(sum_of_nums(lsq))"
   ]
  }
 ],
 "metadata": {
  "kernelspec": {
   "display_name": "base",
   "language": "python",
   "name": "python3"
  },
  "language_info": {
   "codemirror_mode": {
    "name": "ipython",
    "version": 3
   },
   "file_extension": ".py",
   "mimetype": "text/x-python",
   "name": "python",
   "nbconvert_exporter": "python",
   "pygments_lexer": "ipython3",
   "version": "3.11.5"
  }
 },
 "nbformat": 4,
 "nbformat_minor": 2
}
