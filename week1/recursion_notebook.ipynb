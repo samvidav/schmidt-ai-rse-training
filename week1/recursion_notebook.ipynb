{
 "cells": [
  {
   "cell_type": "code",
   "execution_count": 1,
   "metadata": {},
   "outputs": [],
   "source": [
    "class Node(object):\n",
    "    \"Generic tree node.\"\n",
    "    def __init__(self, name='root', children=None):\n",
    "        self.value = name\n",
    "        self.children = children or []\n",
    "\n",
    "    def __repr__(self):\n",
    "        return f\"Node({self.value}, {self.children})\""
   ]
  },
  {
   "cell_type": "code",
   "execution_count": 2,
   "metadata": {},
   "outputs": [],
   "source": [
    "def count_nodes(tree):\n",
    "    if not tree.children:\n",
    "        return 1 # single node\n",
    "    else:\n",
    "        return 1 + sum(count_nodes(child) for child in tree.children)"
   ]
  },
  {
   "cell_type": "code",
   "execution_count": 8,
   "metadata": {},
   "outputs": [],
   "source": [
    "def calculate(tree):\n",
    "    if not tree.children:\n",
    "        return int(tree.value)\n",
    "    else:\n",
    "        left = calculate(tree.children[0])\n",
    "        right = calculate(tree.children[1])\n",
    "        if tree.value == \"+\":\n",
    "            return left + right\n",
    "        elif tree.value == \"-\":\n",
    "            return left - right\n",
    "        elif tree.value == \"*\":\n",
    "            return left * right\n",
    "        elif tree.value == \"/\":\n",
    "            return left / right\n",
    "        else:\n",
    "            raise ValueError(\"Math symbol must be + or - or * or /\")"
   ]
  },
  {
   "cell_type": "code",
   "execution_count": 3,
   "metadata": {},
   "outputs": [],
   "source": [
    "#    +\n",
    "#   / \\\n",
    "#  1  *\n",
    "#    / \\\n",
    "#   2   3\n",
    "t = Node('+', [Node('1'),\n",
    "               Node('*', [Node('2'),\n",
    "                          Node('3')])])"
   ]
  },
  {
   "cell_type": "code",
   "execution_count": 4,
   "metadata": {},
   "outputs": [
    {
     "data": {
      "text/plain": [
       "5"
      ]
     },
     "execution_count": 4,
     "metadata": {},
     "output_type": "execute_result"
    }
   ],
   "source": [
    "count_nodes(t)"
   ]
  },
  {
   "cell_type": "code",
   "execution_count": 9,
   "metadata": {},
   "outputs": [
    {
     "data": {
      "text/plain": [
       "7"
      ]
     },
     "execution_count": 9,
     "metadata": {},
     "output_type": "execute_result"
    }
   ],
   "source": [
    "calculate(t)"
   ]
  }
 ],
 "metadata": {
  "kernelspec": {
   "display_name": "base",
   "language": "python",
   "name": "python3"
  },
  "language_info": {
   "codemirror_mode": {
    "name": "ipython",
    "version": 3
   },
   "file_extension": ".py",
   "mimetype": "text/x-python",
   "name": "python",
   "nbconvert_exporter": "python",
   "pygments_lexer": "ipython3",
   "version": "3.11.5"
  }
 },
 "nbformat": 4,
 "nbformat_minor": 2
}
