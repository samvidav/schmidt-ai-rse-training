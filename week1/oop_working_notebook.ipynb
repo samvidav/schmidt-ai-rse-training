{
 "cells": [
  {
   "cell_type": "code",
   "execution_count": 52,
   "metadata": {},
   "outputs": [],
   "source": [
    "import numpy as np\n",
    "import re"
   ]
  },
  {
   "cell_type": "code",
   "execution_count": 11,
   "metadata": {},
   "outputs": [],
   "source": [
    "def attach_names(dvals, names):\n",
    "    # Check that the lengths of names and data are the same and raise an assertion error if not\n",
    "    assert len(names) == len(dvals), \"Length of names does not match data\"\n",
    "    patients = []\n",
    "    for i in range(0, len(names)):\n",
    "        patients.append({'name': names[i],\n",
    "                         'data': dvals[i]})\n",
    "    return patients"
   ]
  },
  {
   "cell_type": "code",
   "execution_count": 12,
   "metadata": {},
   "outputs": [
    {
     "name": "stdout",
     "output_type": "stream",
     "text": [
      "[{'name': 'Alice', 'data': array([1., 2., 3.])}, {'name': 'Bob', 'data': array([4., 5., 6.])}]\n"
     ]
    }
   ],
   "source": [
    "data = np.array([[1., 2., 3.],\n",
    "                 [4., 5., 6.]])\n",
    "\n",
    "output = attach_names(data, ['Alice', 'Bob'])\n",
    "print(output)"
   ]
  },
  {
   "cell_type": "code",
   "execution_count": null,
   "metadata": {},
   "outputs": [],
   "source": [
    "fail = attach_names(data, ['Alice', 'Bob', 'Extra'])\n",
    "print(fail)"
   ]
  },
  {
   "cell_type": "code",
   "execution_count": 16,
   "metadata": {},
   "outputs": [],
   "source": [
    "class Book:\n",
    "    def __init__(self, title, author):\n",
    "        self.title = title\n",
    "        self.author = author\n",
    "\n",
    "    def __str__(self):\n",
    "        return (self.title + ' by ' + self.author)\n"
   ]
  },
  {
   "cell_type": "code",
   "execution_count": 17,
   "metadata": {},
   "outputs": [
    {
     "name": "stdout",
     "output_type": "stream",
     "text": [
      "A Book by Me\n"
     ]
    }
   ],
   "source": [
    "book = Book('A Book', 'Me')\n",
    "print(book)"
   ]
  },
  {
   "cell_type": "code",
   "execution_count": 34,
   "metadata": {},
   "outputs": [],
   "source": [
    "class Observation:\n",
    "    def __init__(self, day, value):\n",
    "        self.day = day\n",
    "        self.value = value\n",
    "\n",
    "    def __str__(self):\n",
    "        return str(self.value)\n",
    "\n",
    "class Person:\n",
    "    def __init__(self, name):\n",
    "        self.name = name\n",
    "\n",
    "    def __str__(self):\n",
    "        return self.name\n",
    "\n",
    "class Patient(Person):\n",
    "    \"\"\"A patient in an inflammation study.\"\"\"\n",
    "    def __init__(self, name):\n",
    "        super().__init__(name)\n",
    "        self.observations = []\n",
    "        # status contains whether the patient is enrolled / has left study / is dead\n",
    "        self.status = []\n",
    "\n",
    "    def add_observation(self, value, day=None):\n",
    "        if day is None:\n",
    "            try:\n",
    "                day = self.observations[-1].day + 1\n",
    "\n",
    "            except IndexError:\n",
    "                day = 0\n",
    "\n",
    "        new_observation = Observation(day, value)\n",
    "\n",
    "        self.observations.append(new_observation)\n",
    "        return new_observation\n",
    "\n",
    "    def add_status(self, status, day=None):\n",
    "        if day is None:\n",
    "            try:\n",
    "                day = self.status[-1].day + 1\n",
    "\n",
    "            except IndexError:\n",
    "                day = 0\n",
    "\n",
    "        new_status = status\n",
    "        self.status.append(new_status)\n",
    "        return new_status\n",
    "    \n",
    "class Doctor(Person):\n",
    "    \"\"\"A doctor who has patients.\"\"\"\n",
    "    def __init__(self, name):\n",
    "        super().__init__(name)\n",
    "        self.patients = []\n",
    "    \n",
    "    def add_patient(self, patient):\n",
    "        # Check that the patient is not already in the doctor's list\n",
    "        for p in self.patients:\n",
    "            if patient.name == p.name:\n",
    "                return\n",
    "        self.patients.append(patient)\n"
   ]
  },
  {
   "cell_type": "code",
   "execution_count": 46,
   "metadata": {},
   "outputs": [],
   "source": [
    "# Some tests to see if the code above works\n",
    "def test_create_patient():\n",
    "    name = 'Alice'\n",
    "    p = Patient(name = name)\n",
    "    # Check that the patient is a person\n",
    "    assert isinstance(p, Person)\n",
    "    # Check person's name is assigned correctly\n",
    "    assert p.name == name\n",
    "\n",
    "def test_create_doctor():\n",
    "    name = 'Test Doctor'\n",
    "    d = Doctor(name = name)\n",
    "    assert isinstance(d, Person)\n",
    "    assert d.name == name\n",
    "\n",
    "def test_patients_added():\n",
    "    d = Doctor('Test Doctor')\n",
    "    p = Patient('Alice')\n",
    "    d.add_patient(p)\n",
    "    assert d.patients is not None\n",
    "    assert len(d.patients) == 1\n",
    "\n",
    "def test_no_duplicate_patients():\n",
    "    d = Doctor('Test Doctor')\n",
    "    p = Patient('Alice')\n",
    "    d.add_patient(p)\n",
    "    d.add_patient(p)\n",
    "    assert len(d.patients) == 1"
   ]
  },
  {
   "cell_type": "code",
   "execution_count": 65,
   "metadata": {},
   "outputs": [],
   "source": [
    "class Person:\n",
    "    \"\"\"A person.\"\"\"\n",
    "    def __init__(self, name):\n",
    "        self.name = name\n",
    "        self.id = None\n",
    "\n",
    "    def __str__(self):\n",
    "        return self.name\n",
    "\n",
    "    def set_id(self, id):\n",
    "      raise NotImplementedError('set_id not implemented')\n",
    "\n",
    "    def get_id(self):\n",
    "        return self.id\n",
    "\n",
    "class Patient(Person):\n",
    "    \"\"\"A patient in an inflammation study.\"\"\"\n",
    "    def __init__(self, name):\n",
    "        super().__init__(name)\n",
    "\n",
    "    def __str__(self):\n",
    "        return 'Patient: ' + super().__str__()\n",
    "\n",
    "    def set_id(self, id):\n",
    "        self.id = 'P' + str(id).zfill(4)\n",
    "\n",
    "\n",
    "class Doctor(Person):\n",
    "    \"\"\"A doctor in an inflammation study.\"\"\"\n",
    "    def __init__(self, name):\n",
    "        super().__init__(name)\n",
    "\n",
    "    def __str__(self):\n",
    "        return 'Doctor: ' + super().__str__()\n",
    "\n",
    "    def set_id(self, id):\n",
    "        self.id = 'D' + str(id).zfill(4)\n",
    "\n",
    "class Administrator:\n",
    "    \"\"\"An administrator in an inflammation study.\"\"\"\n",
    "    def __init__(self, name):\n",
    "        self.name = name\n",
    "        self.id = None\n",
    "\n",
    "    def __str__(self):\n",
    "        return 'Administrator: ' + self.name\n",
    "\n",
    "    def set_id(self, id):\n",
    "        self.id = 'A' + str(id).zfill(4)\n",
    "\n",
    "    def get_id(self):\n",
    "        return self.id"
   ]
  },
  {
   "cell_type": "code",
   "execution_count": 66,
   "metadata": {},
   "outputs": [],
   "source": [
    "class Trial:\n",
    "    \"\"\"A trial that has people (doctors, patients, administrators).\"\"\"\n",
    "    def __init__(self):\n",
    "        self.people = []\n",
    "\n",
    "    def add_person(self, new_person):\n",
    "        # Add a person to the trial\n",
    "        if isinstance(new_person, Person):\n",
    "            self.people.append(new_person)\n",
    "        elif hasattr(new_person, 'get_id'):\n",
    "            new_person_id = new_person.get_id()\n",
    "            if re.match(\"^A[0-9]{4}$\", new_person_id):\n",
    "                new_person = Administrator(new_person_id)\n",
    "            elif re.match(\"^D[0-9]{4}$\", new_person_id):\n",
    "                new_person = Doctor(new_person_id)\n",
    "            elif re.match(\"^P[0-9]{4}$\", new_person_id):\n",
    "                new_person = Patient(new_person_id)\n",
    "            else: raise TypeError('new person id does not begin with A, D, or P and/or is not followed by 4 numbers')\n",
    "            self.people.append(new_person)\n",
    "        else: raise TypeError('new person must be a Person object or have a get_id method')\n",
    "    \n",
    "    def print_people(self):\n",
    "        # Print the names of all people in the trial (since they are all now people they have names)\n",
    "        for p in self.people:\n",
    "            print(p)\n",
    "\n",
    "    def set_ids(self):\n",
    "        # Assign unique ids to everyone in the trial\n",
    "        for i, p in enumerate(self.people):\n",
    "            if hasattr(p, 'set_id'):\n",
    "                p.set_id(i + 1)\n",
    "            else: raise TypeError('person does not have method to set id')\n",
    "\n",
    "    "
   ]
  },
  {
   "cell_type": "code",
   "execution_count": 72,
   "metadata": {},
   "outputs": [
    {
     "name": "stdout",
     "output_type": "stream",
     "text": [
      "Doctor: Doctor Bones\n",
      "Administrator: A0235\n",
      "Patient: Sickman\n",
      "D0001\n",
      "A0002\n",
      "P0003\n"
     ]
    }
   ],
   "source": [
    "newtrial = Trial()\n",
    "newtrial.add_person(Doctor('Doctor Bones'))\n",
    "sheila = Administrator('Sheila')\n",
    "sheila.set_id(235)\n",
    "newtrial.add_person(sheila)\n",
    "newtrial.add_person(Patient('Sickman'))\n",
    "# newtrial.add_person('Failure')\n",
    "\n",
    "newtrial.print_people()\n",
    "\n",
    "# This reassigns ids\n",
    "newtrial.set_ids()\n",
    "for p in newtrial.people:\n",
    "    print (p.id)"
   ]
  }
 ],
 "metadata": {
  "kernelspec": {
   "display_name": "Python 3 (ipykernel)",
   "language": "python",
   "name": "python3"
  },
  "language_info": {
   "codemirror_mode": {
    "name": "ipython",
    "version": 3
   },
   "file_extension": ".py",
   "mimetype": "text/x-python",
   "name": "python",
   "nbconvert_exporter": "python",
   "pygments_lexer": "ipython3",
   "version": "3.11.5"
  }
 },
 "nbformat": 4,
 "nbformat_minor": 2
}
